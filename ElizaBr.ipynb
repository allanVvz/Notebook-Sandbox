{
  "nbformat": 4,
  "nbformat_minor": 0,
  "metadata": {
    "colab": {
      "provenance": [],
      "authorship_tag": "ABX9TyPjAC9S+VlJ89abnzaqmiPN",
      "include_colab_link": true
    },
    "kernelspec": {
      "name": "python3",
      "display_name": "Python 3"
    },
    "language_info": {
      "name": "python"
    }
  },
  "cells": [
    {
      "cell_type": "markdown",
      "metadata": {
        "id": "view-in-github",
        "colab_type": "text"
      },
      "source": [
        "<a href=\"https://colab.research.google.com/github/allanVvz/Notebook-Sandbox/blob/main/ElizaBr.ipynb\" target=\"_parent\"><img src=\"https://colab.research.google.com/assets/colab-badge.svg\" alt=\"Open In Colab\"/></a>"
      ]
    },
    {
      "cell_type": "code",
      "execution_count": 1,
      "metadata": {
        "id": "HJRbtSe1EjLR"
      },
      "outputs": [],
      "source": [
        "# Imports e utilidades\n",
        "import re\n",
        "import random\n",
        "from typing import List, Tuple, Pattern\n"
      ]
    },
    {
      "cell_type": "code",
      "source": [
        "# Reflexões/pronomes e helpers\n",
        "REFLECTIONS = {\n",
        "    \"i\": \"you\", \"me\": \"you\", \"my\": \"your\", \"mine\": \"yours\", \"am\": \"are\",\n",
        "    \"myself\": \"yourself\", \"you\": \"I\", \"your\": \"my\", \"yours\": \"mine\", \"yourself\": \"myself\",\n",
        "    \"i'm\": \"you're\", \"i’d\": \"you’d\", \"i've\": \"you've\", \"i'll\": \"you'll\",\n",
        "    \"you're\": \"I'm\", \"you’d\": \"I’d\", \"you've\": \"I've\", \"you'll\": \"I'll\",\n",
        "    \"eu\": \"você\", \"mim\": \"você\", \"meu\": \"seu\", \"minha\": \"sua\", \"meus\": \"seus\", \"minhas\": \"suas\",\n",
        "    \"sou\": \"é\", \"estou\": \"está\", \"vou\": \"vai\",\n",
        "    \"você\": \"eu\", \"seu\": \"meu\", \"sua\": \"minha\", \"seus\": \"meus\", \"suas\": \"minhas\",\n",
        "}\n",
        "\n",
        "def reflect(fragment: str) -> str:\n",
        "    tokens = re.findall(r\"\\w+|[^\\w\\s]\", fragment, flags=re.UNICODE)\n",
        "    out = []\n",
        "    for t in tokens:\n",
        "        lower = t.lower()\n",
        "        if lower in REFLECTIONS:\n",
        "            rep = REFLECTIONS[lower]\n",
        "            if t[0].isupper():\n",
        "                rep = rep.capitalize()\n",
        "            out.append(rep)\n",
        "        else:\n",
        "            out.append(t)\n",
        "    s = \"\"\n",
        "    for i, tok in enumerate(out):\n",
        "        if i > 0 and re.match(r\"\\w\", tok) and re.match(r\"\\w\", out[i-1]):\n",
        "            s += \" \" + tok\n",
        "        elif i > 0 and re.match(r\"\\w\", tok) and re.match(r\"[\\)\\]\\}\\!\\?.,;:]\", out[i-1]):\n",
        "            s += \" \" + tok\n",
        "        else:\n",
        "            s += tok if i == 0 else (\" \" + tok if re.match(r\"\\w\", tok) else tok)\n",
        "    return s.strip()\n",
        "\n",
        "def clean(text: str) -> str:\n",
        "    return re.sub(r\"\\s+\", \" \", text.strip())\n"
      ],
      "metadata": {
        "id": "A8J5NqPrEsGc"
      },
      "execution_count": 2,
      "outputs": []
    },
    {
      "cell_type": "code",
      "source": [
        "# Regras com padrões de regex\n",
        "RAW_RULES: List[Tuple[str, List[str]]] = [\n",
        "    (r\"\\bI need\\s+(.+)\", [\n",
        "        \"Why do you need {0}?\",\n",
        "        \"Would it really help you to get {0}?\",\n",
        "        \"What would it mean to you if you had {0}?\"\n",
        "    ]),\n",
        "    (r\"\\bI want\\s+(.+)\", [\n",
        "        \"Why do you want {0}?\",\n",
        "        \"What would change if you got {0}?\"\n",
        "    ]),\n",
        "    (r\"\\bI(?:'m| am)\\s+(.+)\", [\n",
        "        \"How long have you been {0}?\",\n",
        "        \"Why do you think you are {0}?\"\n",
        "    ]),\n",
        "    (r\"\\bI feel\\s+(.+)\", [\n",
        "        \"Tell me more about feeling {0}.\",\n",
        "        \"What makes you feel {0}?\"\n",
        "    ]),\n",
        "    (r\"\\b(?:mother|father|family|friend|partner|wife|husband)\\b.*\", [\n",
        "        \"Tell me more about your relationships.\",\n",
        "        \"How does your family influence this situation?\"\n",
        "    ]),\n",
        "    (r\"(.+)\\?\\s*$\", [\n",
        "        \"What do you think?\",\n",
        "        \"Why do you ask that?\"\n",
        "    ]),\n",
        "    # Versões em português\n",
        "    (r\"\\beu preciso(?: de)?\\s+(.+)\", [\n",
        "        \"Por que você precisa de {0}?\",\n",
        "        \"Ter {0} realmente ajudaria?\",\n",
        "        \"O que mudaria se você tivesse {0}?\"\n",
        "    ]),\n",
        "    (r\"\\beu quero\\s+(.+)\", [\n",
        "        \"Por que você quer {0}?\",\n",
        "        \"O que mudaria se você conseguisse {0}?\"\n",
        "    ]),\n",
        "    (r\"\\b(?:eu estou|estou|sou)\\s+(.+)\", [\n",
        "        \"Há quanto tempo você está {0}?\",\n",
        "        \"Por que você acha que está {0}?\"\n",
        "    ]),\n",
        "    (r\"\\beu me sinto\\s+(.+)\", [\n",
        "        \"Conte mais sobre sentir {0}.\",\n",
        "        \"O que te faz sentir {0}?\"\n",
        "    ]),\n",
        "    (r\"(.+)\\?\\s*$\", [\n",
        "        \"O que você acha?\",\n",
        "        \"Por que essa pergunta?\"\n",
        "    ]),\n",
        "]\n",
        "\n",
        "RULES: List[Tuple[Pattern, List[str]]] = [(re.compile(p, re.IGNORECASE), resps) for p, resps in RAW_RULES]\n",
        "\n",
        "DEFAULT_RESPONSES = [\n",
        "    \"Please, go on.\",\n",
        "    \"Can you elaborate?\",\n",
        "    \"Interesting—tell me more.\",\n",
        "    \"Entendo. Pode detalhar um pouco mais?\"\n",
        "]\n"
      ],
      "metadata": {
        "id": "REqfzB5rEugQ"
      },
      "execution_count": 3,
      "outputs": []
    },
    {
      "cell_type": "code",
      "source": [
        "# Motor de resposta\n",
        "def eliza_reply(text: str) -> str:\n",
        "    text = clean(text)\n",
        "    for pattern, responses in RULES:\n",
        "        m = pattern.search(text)\n",
        "        if m:\n",
        "            groups = [reflect(clean(g)) for g in m.groups()]\n",
        "            template = random.choice(responses)\n",
        "            try:\n",
        "                return template.format(*groups)\n",
        "            except Exception:\n",
        "                return random.choice(responses)\n",
        "    return random.choice(DEFAULT_RESPONSES)\n"
      ],
      "metadata": {
        "id": "qcxXacocEw7a"
      },
      "execution_count": 4,
      "outputs": []
    },
    {
      "cell_type": "code",
      "source": [
        "# Testes rápidos\n",
        "tests = [\n",
        "    \"I need food\",\n",
        "    \"I want a break\",\n",
        "    \"I'm tired of work\",\n",
        "    \"I feel anxious\",\n",
        "    \"My mother keeps calling me\",\n",
        "    \"Why is this happening?\",\n",
        "    \"eu preciso de ajuda\",\n",
        "    \"eu quero descansar\",\n",
        "    \"eu estou com medo\",\n",
        "    \"eu me sinto cansado\",\n",
        "    \"isso faz sentido?\"\n",
        "]\n",
        "\n",
        "for t in tests:\n",
        "    print(f\"\\nUser: {t}\\nELIZA: {eliza_reply(t)}\")\n"
      ],
      "metadata": {
        "colab": {
          "base_uri": "https://localhost:8080/"
        },
        "id": "ZserKWyWEzSb",
        "outputId": "b7b3ba72-2127-4908-b2ef-b28d90dea980"
      },
      "execution_count": 10,
      "outputs": [
        {
          "output_type": "stream",
          "name": "stdout",
          "text": [
            "\n",
            "User: I need food\n",
            "ELIZA: Would it really help you to get food?\n",
            "\n",
            "User: I want a break\n",
            "ELIZA: What would change if you got a break?\n",
            "\n",
            "User: I'm tired of work\n",
            "ELIZA: How long have you been tired of work?\n",
            "\n",
            "User: I feel anxious\n",
            "ELIZA: Tell me more about feeling anxious.\n",
            "\n",
            "User: My mother keeps calling me\n",
            "ELIZA: How does your family influence this situation?\n",
            "\n",
            "User: Why is this happening?\n",
            "ELIZA: What do you think?\n",
            "\n",
            "User: eu preciso de ajuda\n",
            "ELIZA: O que mudaria se você tivesse ajuda?\n",
            "\n",
            "User: eu quero descansar\n",
            "ELIZA: Por que você quer descansar?\n",
            "\n",
            "User: eu estou com medo\n",
            "ELIZA: Há quanto tempo você está com medo?\n",
            "\n",
            "User: eu me sinto cansado\n",
            "ELIZA: O que te faz sentir cansado?\n",
            "\n",
            "User: isso faz sentido?\n",
            "ELIZA: What do you think?\n"
          ]
        }
      ]
    },
    {
      "cell_type": "code",
      "source": [
        "# Loop de chat interativo\n",
        "def chat():\n",
        "    print(\"ELIZA: Hello, I'm here to talk. How are you today?\")\n",
        "    while True:\n",
        "        try:\n",
        "            user = input(\"You: \").strip()\n",
        "        except (EOFError, KeyboardInterrupt):\n",
        "            print(\"\\nELIZA: Goodbye!\")\n",
        "            break\n",
        "        if user.lower() in {\"quit\", \"exit\", \"sair\"}:\n",
        "            print(\"ELIZA: Goodbye!\")\n",
        "            break\n",
        "        print(\"ELIZA:\", eliza_reply(user))\n",
        "\n",
        "# Para iniciar a conversa:\n",
        "# chat()\n"
      ],
      "metadata": {
        "id": "Kog5kLqqE3Su"
      },
      "execution_count": 7,
      "outputs": []
    },
    {
      "cell_type": "code",
      "source": [
        "chat()"
      ],
      "metadata": {
        "colab": {
          "base_uri": "https://localhost:8080/"
        },
        "id": "QwPyVRqDE5ht",
        "outputId": "aee9f409-d2df-4e3c-b273-86cf03e46d8a"
      },
      "execution_count": null,
      "outputs": [
        {
          "output_type": "stream",
          "name": "stdout",
          "text": [
            "ELIZA: Hello, I'm here to talk. How are you today?\n",
            "You: My wife is distant lately\n",
            "ELIZA: How does your family influence this situation?\n",
            "You: It makes me feel worthless\n",
            "ELIZA: Can you elaborate?\n",
            "You: I don’t think I deserve love\n",
            "ELIZA: Can you elaborate?\n"
          ]
        }
      ]
    },
    {
      "cell_type": "code",
      "source": [],
      "metadata": {
        "id": "uGNlhOnuGQkN"
      },
      "execution_count": null,
      "outputs": []
    }
  ]
}