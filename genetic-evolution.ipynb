{
  "cells": [
    {
      "cell_type": "markdown",
      "id": "d639c0a9",
      "metadata": {
        "id": "d639c0a9"
      },
      "source": [
        "# Algoritmos Genéticos e Aleatoriedade\n",
        "\n",
        "Os **Algoritmos Genéticos** têm uma característica essencial que muitas vezes passa despercebida: a **aleatoriedade**.  \n",
        "É justamente o fator aleatório que permite à evolução artificial escapar de soluções ruins e explorar novas possibilidades,  \n",
        "assim como na natureza mutações ocorrem ao acaso.\n",
        "\n",
        "No código que implementa a busca por uma **frase-alvo**, essa aleatoriedade aparece em dois pontos-chave:\n",
        "- A geração inicial de indivíduos (strings de caracteres completamente aleatórias).  \n",
        "- As mutações aplicadas durante as gerações seguintes.  \n",
        "\n",
        "Essa combinação faz com que, mesmo partindo do “caos”, o algoritmo consiga gradualmente alinhar os caracteres  \n",
        "e se aproximar da resposta correta.\n",
        "\n",
        "O processo funciona como uma simulação da evolução: **seleção dos melhores**, **cruzamento de partes corretas** e  \n",
        "**mutação aleatória** para explorar o espaço de busca. Sem o elemento do acaso, o algoritmo poderia estagnar; com ele,  \n",
        "a cada geração cresce a chance de encontrar a solução perfeita.\n",
        "\n",
        "👉 **Em resumo:** os Algoritmos Genéticos mostram como a aleatoriedade, quando guiada por regras de seleção e adaptação,  \n",
        "pode se transformar em um caminho poderoso para resolver problemas complexos.\n"
      ]
    },
    {
      "cell_type": "code",
      "execution_count": 8,
      "id": "75vElXhOIPfI",
      "metadata": {
        "id": "75vElXhOIPfI"
      },
      "outputs": [],
      "source": [
        "# Conjunto de caracteres possíveis\n",
        "geneSet = \"aãbcçdefghijklmnoópqrstuvwxyzABCDEFGHIJKLMNOPQRSTUVWXYZ!.,;? \"\n",
        "\n",
        "# Frase alvo\n",
        "target = \"Seleção dos melhores, cruzamento de partes corretas e mutação aleatória!\""
      ]
    },
    {
      "cell_type": "code",
      "execution_count": 9,
      "id": "9d44f67f",
      "metadata": {
        "id": "9d44f67f"
      },
      "outputs": [],
      "source": [
        "import random\n",
        "\n",
        "def generate_parent(length):\n",
        "    genes = []\n",
        "    while len(genes) < length:\n",
        "      sampleSize = min(length - len(genes), len(geneSet))\n",
        "      genes.extend(random.sample(geneSet, sampleSize))\n",
        "    return ''.join(genes)\n",
        "\n",
        "import random\n",
        "def print_parent(length):\n",
        "    genes = []\n",
        "    while len(genes) < length:\n",
        "      print('length: ', length)\n",
        "      print('len(genes): ', len(genes))\n",
        "      sampleSize = min(length - len(genes), len(geneSet))\n",
        "      print('sampleSize: ', sampleSize)\n",
        "      genes.extend(random.sample(geneSet, sampleSize))\n",
        "      print('genes: ', genes)\n",
        "    return ''.join(genes)"
      ]
    },
    {
      "cell_type": "code",
      "execution_count": 10,
      "id": "3a9b5d4d",
      "metadata": {
        "id": "3a9b5d4d"
      },
      "outputs": [],
      "source": [
        "def get_fitness(guess):\n",
        "    return sum(1 for expected, actual in zip(target, guess)\n",
        "               if expected == actual)\n",
        "def print_fitness(guess):\n",
        "    fitness = 0\n",
        "    for expected, actual in zip(target, guess):\n",
        "        if expected == actual:\n",
        "            print('match: ', expected, actual)\n",
        "            fitness += 1\n",
        "        else:\n",
        "            print('  eer: ', expected, actual)\n",
        "    return fitness\n"
      ]
    },
    {
      "cell_type": "code",
      "execution_count": 11,
      "id": "325ec32a",
      "metadata": {
        "id": "325ec32a"
      },
      "outputs": [],
      "source": [
        "def mutate(parent):\n",
        "    index = random.randrange(0, len(parent))\n",
        "   #print(index)\n",
        "    childGenes = list(parent)\n",
        "   #print(childGenes)\n",
        "    newGene, alternate = random.sample(geneSet, 2)\n",
        "   #print(\"novos possíveis genes: \", newGene, alternate)\n",
        "    childGenes[index] = alternate if newGene == childGenes[index] else newGene\n",
        "    return \"\".join(childGenes)"
      ]
    },
    {
      "cell_type": "code",
      "execution_count": 12,
      "id": "91f18a09",
      "metadata": {
        "id": "91f18a09"
      },
      "outputs": [],
      "source": [
        "import datetime\n",
        "\n",
        "def display(guess):\n",
        "  timeDiff = datetime.datetime.now() - startTime\n",
        "  fitness = get_fitness(guess)\n",
        "  print(\"{0}\\t{1}\\t{2}\".format(guess, fitness, str(timeDiff)))"
      ]
    },
    {
      "cell_type": "code",
      "execution_count": 13,
      "id": "532e829f",
      "metadata": {
        "colab": {
          "base_uri": "https://localhost:8080/"
        },
        "id": "532e829f",
        "outputId": "66bfa755-fdc6-4080-f07f-4fb493e98226"
      },
      "outputs": [
        {
          "name": "stdout",
          "output_type": "stream",
          "text": [
            "Kç,LXxtN mrslYyIvHiãzGhfJFbAjZakeBuOQcCT.EPU;q?Rn!oSóVDdwpMgWDXVcLZyoJmU\t0\t0:00:00.000246\n",
            "Kç,LXxtN mrslYyIvriãzGhfJFbAjZakeBuOQcCT.EPU;q?Rn!oSóVDdwpMgWDXVcLZyoJmU\t1\t0:00:00.001097\n",
            "Ke,LXxtN mrslYyIvriãzGhfJFbAjZakeBuOQcCT.EPU;q?Rn!oSóVDdwpMgWDXVcLZyoJmU\t2\t0:00:00.002403\n",
            "Ke,LXxtN mrslYyIvriãzGhfJFbAjZakeBuOQcCT.EPU;q?Rn!oSóVDdwpMgWDXVcLZyoimU\t3\t0:00:00.002759\n",
            "Ke,LXxtN mrslYyIvriãzGhfJFbAeZakeBuOQcCT.EPU;q?Rn!oSóVDdwpMgWDXVcLZyoimU\t4\t0:00:00.003885\n",
            "Ke,LXxtN mrslYyIvriãzGhfJFbAeZakeBuOQcCT.EPU;q?Rt!oSóVDdwpMgWDXVcLZyoimU\t5\t0:00:00.004591\n",
            "Ke,LXxtN mrslYyIvriãzGhfJFbAeZakeBuOQcCT.EPU;qrRt!oSóVDdwpMgWDXVcLZyoimU\t6\t0:00:00.005634\n",
            "Ke,LXxtN mrslYyIvriãzGhfJFbAeZaoeBuOQcCT.EPU;qrRt!oSóVDdwpMgWDXVcLZyoimU\t7\t0:00:00.006764\n",
            "KelLXxtN mrslYyIvriãzGhfJFbAeZaoeBuOQcCT.EPU;qrRt!oSóVDdwpMgWDXVcLZyoimU\t8\t0:00:00.008499\n",
            "KelLXxtN mrslYyIvriãzGcfJFbAeZaoeBuOQcCT.EPU;qrRt!oSóVDdwpMgWDXVcLZyoimU\t9\t0:00:00.008662\n",
            "KelLXxtN mrslYyIvriãzGcfJFbAeZaoeBuOQcCT.EPU;qrRt!oSóVDdwpMgWDXVcLZóoimU\t10\t0:00:00.008698\n",
            "KelLXxtN mrslYyIvriãzGcfJFbAenaoeBuOQcCT.EPU;qrRt!oSóVDdwpMgWDXVcLZóoimU\t11\t0:00:00.009179\n",
            "KelLXxtN mrslYyIvriszGcfJFbAenaoeBuOQcCT.EPU;qrRt!oSóVDdwpMgWDXVcLZóoimU\t12\t0:00:00.011571\n",
            "KelLXxtN mrslYyIvriszGcfJFbAenaoeBuOpcCT.EPU;qrRt!oSóVDdwpMgWDXVcLZóoimU\t13\t0:00:00.012022\n",
            "KelLXxtN mrslYyIvriszGcfJFbAenaoeBuOpcCT.E U;qrRt!oSóVDdwpMgWDXVcLZóoimU\t14\t0:00:00.014476\n",
            "KelLXxtN mrslYyIvriszGcfJFbAenaoeBuOpcrT.E U;qrRt!oSóVDdwpMgWDXVcLZóoimU\t15\t0:00:00.015096\n",
            "KelLXxtN mrslYyIvriszGcrJFbAenaoeBuOpcrT.E U;qrRt!oSóVDdwpMgWDXVcLZóoimU\t16\t0:00:00.015359\n",
            "KelLXxtN mrslYyIvriszGcrJFbAenaoeBuOpcrT.E U;qrRt!oSóVDdwpMgWDXVcLZórimU\t17\t0:00:00.018605\n",
            "KelLXxtN mrslYlIvriszGcrJFbAenaoeBuOpcrT.E U;qrRt!oSóVDdwpMgWDXVcLZórimU\t18\t0:00:00.019710\n",
            "KelLXxtN mrslYlhvriszGcrJFbAenaoeBuOpcrT.E U;qrRt!oSóVDdwpMgWDXVcLZórimU\t19\t0:00:00.021352\n",
            "KelLXxtN mrslYlhvriszGcrJFbAenao BuOpcrT.E U;qrRt!oSóVDdwpMgWDXVcLZórimU\t20\t0:00:00.021477\n",
            "KelLXxtN mrslYlhvris,GcrJFbAenao BuOpcrT.E U;qrRt!oSóVDdwpMgWDXVcLZórimU\t21\t0:00:00.022488\n",
            "KelLXxtN mrslYlhvris,GcrJFbAenao BuOpcrT.E U;qrRt!oSóVDdwpMãWDXVcLZórimU\t22\t0:00:00.024688\n",
            "KelLXxtN mrslYlhvris,GcrJFbAenao BuOpcrT.E U;qrRt!oSóVmdwpMãWDXVcLZórimU\t23\t0:00:00.024910\n",
            "KelLXxtN mrslYlhvris,GcrJFbAenao BuOpcrT.E U;qrRt!oSóVmdwpMãWDXVcLZórim!\t24\t0:00:00.026665\n",
            "KelLXxtN mrslYlhvris,GcrJFbAenao BuOpcrT.E U;qrRt!oSóVmdtpMãWDXVcLZórim!\t25\t0:00:00.027590\n",
            "KelLXxtN mrslYlhvres,GcrJFbAenao BuOpcrT.E U;qrRt!oSóVmdtpMãWDXVcLZórim!\t26\t0:00:00.028139\n",
            "KelLXxtN mr lYlhvres,GcrJFbAenao BuOpcrT.E U;qrRt!oSóVmdtpMãWDXVcLZórim!\t27\t0:00:00.028608\n",
            "KelLXxtN ms lYlhvres,GcrJFbAenao BuOpcrT.E U;qrRt!oSóVmdtpMãWDXVcLZórim!\t28\t0:00:00.030536\n",
            "KelLXxtN ms lYlhvres,GcrJFbAento BuOpcrT.E U;qrRt!oSóVmdtpMãWDXVcLZórim!\t29\t0:00:00.031086\n",
            "KeleXxtN ms lYlhvres,GcrJFbAento BuOpcrT.E U;qrRt!oSóVmdtpMãWDXVcLZórim!\t30\t0:00:00.035102\n",
            "KeleXxtN ms lelhvres,GcrJFbAento BuOpcrT.E U;qrRt!oSóVmdtpMãWDXVcLZórim!\t31\t0:00:00.036129\n",
            "KeleXxtN ms lelhvres,GcrJFbAento BuOpcrT.E U;qrRt!o óVmdtpMãWDXVcLZórim!\t32\t0:00:00.037390\n",
            "KeleXxtN ms lelhvres,GcrJFbAento Bu pcrT.E U;qrRt!o óVmdtpMãWDXVcLZórim!\t33\t0:00:00.041885\n",
            "KeleXxtN ms lelhvres,GcrJFbAento Bu pcrT.E U;qrRtao óVmdtpMãWDXVcLZórim!\t34\t0:00:00.041983\n",
            "KeleXxtN ms lelhvres,GcrJFbAento Bu pcrT.E c;qrRtao óVmdtpMãWDXVcLZórim!\t35\t0:00:00.042433\n",
            "SeleXxtN ms lelhvres,GcrJFbAento Bu pcrT.E c;qrRtao óVmdtpMãWDXVcLZórim!\t36\t0:00:00.043709\n",
            "SeleXxtN ms lelhvres,GcrJFbAento Bu pcrT.E coqrRtao óVmdtpMãWDXVcLZórim!\t37\t0:00:00.046064\n",
            "SeleXxtN ms melhvres,GcrJFbAento Bu pcrT.E coqrRtao óVmdtpMãWDXVcLZórim!\t38\t0:00:00.053504\n",
            "SeleXxtN ms melhvres,GcrJFbAento Bu pcrT.E corrRtao óVmdtpMãWDXVcLZórim!\t39\t0:00:00.054839\n",
            "SeleXxtN ms melhvres,GcrJFbAento Bu pcrT.E corrRtao óVmdtpMãoDXVcLZórim!\t40\t0:00:00.055897\n",
            "SeleXxoN ms melhvres,GcrJFbAento Bu pcrT.E corrRtao óVmdtpMãoDXVcLZórim!\t41\t0:00:00.056994\n",
            "SeleXxoN ms melhvres,GcrJFbAento du pcrT.E corrRtao óVmdtpMãoDXVcLZórim!\t42\t0:00:00.057056\n",
            "SeleXxoN ms melhvres,GcrJFbAento de pcrT.E corrRtao óVmdtpMãoDXVcLZórim!\t43\t0:00:00.058642\n",
            "SeleXãoN ms melhvres,GcrJFbAento de pcrT.E corrRtao óVmdtpMãoDXVcLZórim!\t44\t0:00:00.059425\n",
            "SeleXãoN ms melhvres,GcrJFbAento de pcrTeE corrRtao óVmdtpMãoDXVcLZórim!\t45\t0:00:00.060244\n",
            "SeleXãoN ms melhvres,GcrJFbAento de pcrTes corrRtao óVmdtpMãoDXVcLZórim!\t46\t0:00:00.062365\n",
            "SeleçãoN ms melhvres,GcrJFbAento de pcrTes corrRtao óVmdtpMãoDXVcLZórim!\t47\t0:00:00.070275\n",
            "SeleçãoNdms melhvres,GcrJFbAento de pcrTes corrRtao óVmdtpMãoDXVcLZórim!\t48\t0:00:00.075538\n",
            "Seleção dms melhvres,GcrJFbAento de pcrTes corrRtao óVmdtpMãoDXVcLZórim!\t49\t0:00:00.077880\n",
            "Seleção dms melhvres,GcrJFbAento de pcrTes corrRtao óVmdtpMão XVcLZórim!\t50\t0:00:00.081807\n",
            "Seleção dms melhvres,GcrJFbAento de pcrTes corretao óVmdtpMão XVcLZórim!\t51\t0:00:00.093137\n",
            "Seleção dms melhvres,GcrJFaAento de pcrTes corretao óVmdtpMão XVcLZórim!\t52\t0:00:00.096845\n",
            "Seleção dms melhvres,GcrJFaAento de pcrTes corretas óVmdtpMão XVcLZórim!\t53\t0:00:00.103592\n",
            "Seleção dms melhvres,GcruFaAento de pcrTes corretas óVmdtpMão XVcLZórim!\t54\t0:00:00.108801\n",
            "Seleção dms melhvres,GcruFaAento de parTes corretas óVmdtpMão XVcLZórim!\t55\t0:00:00.109271\n",
            "Seleção dms melhvres,GcruFaAento de parTes corretas óVmutpMão XVcLZórim!\t56\t0:00:00.111034\n",
            "Seleção dms melhvres,GcruFaAento de parTes corretas óVmutpMão XVcLtórim!\t57\t0:00:00.122464\n",
            "Seleção dms melhvres,GcruFaAento de parTes corretas óVmutpMão XVeLtórim!\t58\t0:00:00.128395\n",
            "Seleção dms melhores,GcruFaAento de parTes corretas óVmutpMão XVeLtórim!\t59\t0:00:00.147157\n",
            "Seleção dms melhores,GcruFaAento de parTes corretas óVmutpMão XVeatórim!\t60\t0:00:00.160300\n",
            "Seleção dms melhores,GcruFaAento de parTes corretas óVmutaMão XVeatórim!\t61\t0:00:00.165453\n",
            "Seleção dos melhores,GcruFaAento de parTes corretas óVmutaMão XVeatórim!\t62\t0:00:00.166795\n",
            "Seleção dos melhores,GcruFaAento de parTes corretas eVmutaMão XVeatórim!\t63\t0:00:00.169244\n",
            "Seleção dos melhores,GcruFaAento de parTes corretas eVmutaMão XVeatória!\t64\t0:00:00.170892\n",
            "Seleção dos melhores,GcruFaAento de partes corretas eVmutaMão XVeatória!\t65\t0:00:00.171018\n",
            "Seleção dos melhores,GcruzaAento de partes corretas eVmutaMão XVeatória!\t66\t0:00:00.173457\n",
            "Seleção dos melhores,GcruzaAento de partes corretas eVmutação XVeatória!\t67\t0:00:00.192263\n",
            "Seleção dos melhores,GcruzaAento de partes corretas e mutação XVeatória!\t68\t0:00:00.199778\n",
            "Seleção dos melhores, cruzaAento de partes corretas e mutação XVeatória!\t69\t0:00:00.200159\n",
            "Seleção dos melhores, cruzaAento de partes corretas e mutação aVeatória!\t70\t0:00:00.202239\n",
            "Seleção dos melhores, cruzamento de partes corretas e mutação aVeatória!\t71\t0:00:00.252952\n",
            "Seleção dos melhores, cruzamento de partes corretas e mutação aleatória!\t72\t0:00:00.260380\n"
          ]
        }
      ],
      "source": [
        "random.seed()\n",
        "startTime = datetime.datetime.now()\n",
        "bestParent = generate_parent(len(target))\n",
        "bestFitness = get_fitness(bestParent)\n",
        "display(bestParent)\n",
        "\n",
        "while True:\n",
        "  child = mutate(bestParent)\n",
        "  childFitness = get_fitness(child)\n",
        "  if bestFitness >= childFitness:\n",
        "    continue\n",
        "  display(child)\n",
        "  if childFitness >= len(bestParent):\n",
        "    break\n",
        "  bestFitness = childFitness\n",
        "  bestParent = child"
      ]
    },
    {
      "cell_type": "markdown",
      "id": "e8092574",
      "metadata": {
        "id": "e8092574"
      },
      "source": [
        "## Conclusão\n",
        "\n",
        "Note como em todas as etapas existe um espaço para o **acaso**:  \n",
        "- Indivíduos iniciais totalmente aleatórios.  \n",
        "- Pontos de corte escolhidos ao acaso.  \n",
        "- Mutações inesperadas em caracteres.  \n",
        "\n",
        "Essa aleatoriedade, guiada pela seleção natural simulada, é justamente o que dá força ao algoritmo.\n"
      ]
    }
  ],
  "metadata": {
    "colab": {
      "provenance": []
    },
    "kernelspec": {
      "display_name": "Python 3",
      "name": "python3"
    },
    "language_info": {
      "name": "python"
    }
  },
  "nbformat": 4,
  "nbformat_minor": 5
}
